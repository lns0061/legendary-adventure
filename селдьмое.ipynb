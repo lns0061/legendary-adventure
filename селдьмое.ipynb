{
  "nbformat": 4,
  "nbformat_minor": 0,
  "metadata": {
    "colab": {
      "provenance": [],
      "include_colab_link": true
    },
    "kernelspec": {
      "name": "python3",
      "display_name": "Python 3"
    },
    "language_info": {
      "name": "python"
    }
  },
  "cells": [
    {
      "cell_type": "markdown",
      "metadata": {
        "id": "view-in-github",
        "colab_type": "text"
      },
      "source": [
        "<a href=\"https://colab.research.google.com/github/lns0061/legendary-adventure/blob/main/%D1%81%D0%B5%D0%BB%D0%B4%D1%8C%D0%BC%D0%BE%D0%B5.ipynb\" target=\"_parent\"><img src=\"https://colab.research.google.com/assets/colab-badge.svg\" alt=\"Open In Colab\"/></a>"
      ]
    },
    {
      "cell_type": "code",
      "execution_count": null,
      "metadata": {
        "colab": {
          "base_uri": "https://localhost:8080/"
        },
        "id": "6_7HDqUwvalO",
        "outputId": "a046398b-3a60-431d-87a9-25d5844942a2"
      },
      "outputs": [
        {
          "name": "stdout",
          "output_type": "stream",
          "text": [
            "Введите грань куба\n",
            "3\n",
            "Введите число лучей\n",
            "100\n",
            "Введите 1, если хотите задать свое начало вылета луча или введите 0, если хотите использовать координаты вылета луча: {5,5,5}\n",
            "0\n"
          ]
        }
      ],
      "source": [
        "import random\n",
        "from math import *\n",
        "import matplotlib.pyplot as plt\n",
        "\n",
        "print('Введите грань куба')\n",
        "d = float(input())\n",
        "\n",
        "print('Введите число лучей')\n",
        "num = int(input())\n",
        "\n",
        "print('Введите 1, если хотите задать свое начало вылета луча или введите 0, если хотите использовать координаты вылета луча: {5,5,5}')\n",
        "k = int(input())\n",
        "\n",
        "if k==1:\n",
        "  x0 = float(input())\n",
        "  y0 = float(input())\n",
        "  z0 = float(input())\n",
        "else:\n",
        "  x0, y0, z0 = 5, 5, 5\n",
        "\n",
        "coord = [[d/2, -d/2, -d/2], [d/2, -d/2, d/2], [d/2, d/2, d/2], [d/2, d/2, -d/2],\n",
        " [-d/2, -d/2, -d/2], [-d/2, -d/2, d/2], [-d/2, d/2, d/2], [-d/2, d/2, -d/2]]\n",
        "\n",
        "coord_centr_gr = [[0, -d/2, d/2], [0, d/2, d/2],  [0, d/2, -d/2],\n",
        "  [0, -d/2, -d/2], [d/2, 0, d/2], [-d/2, 0, d/2],\n",
        "  [-d/2, 0, -d/2], [d/2, 0, -d/2], [d/2, -d/2, 0],\n",
        "  [-d/2, -d/2, 0], [-d/2, d/2, 0], [d/2, d/2, 0]]\n"
      ]
    },
    {
      "cell_type": "code",
      "source": [
        "#Функция, определяющая коэффициенты уравнения плоскостей для сторон куба\n",
        "#Выводит вложенный список, где 1ый список - набор 1ых коэффициентов (А), 2ой - В, 3ий - С, 4ый - D\n",
        "def surface():\n",
        "  k1, k2, k3, k4 = [], [], [], []\n",
        "  for i in range(6):\n",
        "    count = i\n",
        "    if count == 0:\n",
        "      i1, i2, i3, i4 = 0, 1, 5, 4\n",
        "    elif count == 1:\n",
        "      i1, i2, i3, i4 = 1, 5, 6, 2\n",
        "    elif count == 2:\n",
        "      i1, i2, i3, i4 = 3, 2, 6, 7\n",
        "    elif count == 3:\n",
        "      i1, i2, i3, i4 = 0, 4, 7, 3\n",
        "    elif count == 4:\n",
        "      i1, i2, i3, i4 = 4, 5, 6, 7\n",
        "    elif count == 5:\n",
        "      i1, i2, i3, i4 = 0, 1, 2, 3\n",
        "\n",
        "    k1.append(coord[i1][1]*coord[i2][2]+coord[i1][2]*coord[i3][1]+coord[i2][1]*coord[i3][2]-coord[i2][2]*coord[i3][1]-coord[i1][2]*coord[i2][1]-coord[i1][1]*coord[i3][2])\n",
        "    k2.append(coord[i1][2]*coord[i2][0]+coord[i1][0]*coord[i3][2]+coord[i2][2]*coord[i3][0]-coord[i2][0]*coord[i3][2]-coord[i1][0]*coord[i2][2]-coord[i1][2]*coord[i3][0])\n",
        "    k3.append(coord[i1][0]*coord[i2][1]+coord[i1][1]*coord[i3][0]+coord[i2][0]*coord[i3][1]-coord[i2][1]*coord[i3][0]-coord[i1][1]*coord[i2][0]-coord[i1][0]*coord[i3][1])\n",
        "    k4.append(-(coord[i1][2]*coord[i2][0]*coord[i3][1]+coord[i1][0]*coord[i2][1]*coord[i3][2]+coord[i1][1]*coord[i2][2]*coord[i3][0]-coord[i1][1]*coord[i2][0]*coord[i3][2]-\n",
        "              coord[i1][0]*coord[i2][2]*coord[i3][1]-coord[i1][2]*coord[i2][1]*coord[i3][0]))\n",
        "  kkk = [k1, k2, k3, k4]\n",
        "  return kkk\n"
      ],
      "metadata": {
        "id": "qXwTW53m8c9H"
      },
      "execution_count": null,
      "outputs": []
    },
    {
      "cell_type": "code",
      "source": [
        "#Функция, задающая коэффициенты прямых, лежащих на гранях куба (задаются с помощью коэффициентов уравнений плоскостей, полученных для сторон куба)\n",
        "#Выводит вложенный список, где 1ый список - набор 1ых коэффициентов (А), 2ой - В, 3ий - С, 4ый - D\n",
        "def straight():\n",
        "  kef = surface()\n",
        "  k1, k2, k3, k4 = kef[0], kef[1], kef[2], kef[3]\n",
        "  k10, k20, k30, k40 = [], [], [], []\n",
        "  for i in range(12):\n",
        "    ind = [[0,1], [1,2], [2,3], [3,0], [1,5], [1,4], [4,3], [3,5], [0,5], [0,4], [4,2], [2,5]]\n",
        "    k10.append(k1[ind[i][0]] - k1[ind[i][1]])\n",
        "    k20.append(k2[ind[i][0]] - k2[ind[i][1]])\n",
        "    k30.append(k3[ind[i][0]] - k3[ind[i][1]])\n",
        "    k40.append(k4[ind[i][0]] - k4[ind[i][1]])\n",
        "  kk = [k10, k20, k30, k40]\n",
        "  return kk"
      ],
      "metadata": {
        "id": "H8LlIHKs8Nrp"
      },
      "execution_count": null,
      "outputs": []
    },
    {
      "cell_type": "code",
      "source": [
        "#Функция, которая задает случайный луч, а именно его коэффициенты l,m,n  в параметрическом виде\n",
        "#Выводит список с коэффициентами l,m и n\n",
        "def ray():\n",
        "  l = random.uniform(-1, 1)\n",
        "  m = random.uniform(-1, 1)\n",
        "  n = random.uniform(-1, 1)\n",
        "  lmn = [l, m, n]\n",
        "  return lmn\n"
      ],
      "metadata": {
        "id": "sE2JWRo5yir-"
      },
      "execution_count": null,
      "outputs": []
    },
    {
      "cell_type": "code",
      "source": [
        "#Функция, которая получает координаты точек пересечения луча со сторонами куба (если луч не пересечет одну из сторон, то будет получен пробел вместо ее координаты)\n",
        "#Выводит вложенный список, где 1ый список - набор координат по оси х, 2ой - по оси у, 3ий по оси z\n",
        "def intersection():\n",
        "  t = 0\n",
        "  rays = ray()\n",
        "  l, m, n = rays[0], rays[1], rays[2]\n",
        "  #l, m, n = 0.9, 0.9, 0.9\n",
        "  x, y, z = [], [], []\n",
        "  kef = surface()\n",
        "  k1, k2, k3, k4 = kef[0], kef[1], kef[2], kef[3]\n",
        "  for i in range(6):\n",
        "    count = i\n",
        "    if (k1[count]*l + k2[count]*m + k3[count]*n) != 0:\n",
        "      t = -(k1[count]*x0 + k2[count]*y0 + k3[count]*z0 + k4[count]) / (k1[count]*l + k2[count]*m + k3[count]*n)\n",
        "      if t > 0:\n",
        "        x.append(l*t + x0)\n",
        "        y.append(m*t + y0)\n",
        "        z.append(n*t + z0)\n",
        "      else:\n",
        "        x.append(' ')\n",
        "        y.append(' ')\n",
        "        z.append(' ')\n",
        "    else:\n",
        "        x.append(' ')\n",
        "        y.append(' ')\n",
        "        z.append(' ')\n",
        "  inters = [x, y, z]\n",
        "  return inters"
      ],
      "metadata": {
        "id": "rYqHDHJA1IVR"
      },
      "execution_count": null,
      "outputs": []
    },
    {
      "cell_type": "code",
      "source": [
        "#Функция, определяющая количество пересечений лучей с кубом (детектором)\n",
        "#Выводит список, где каждый элемент - число пересечений соответствующего луча\n",
        "def where_intersection():\n",
        "  cc=[]\n",
        "  tt=[]\n",
        "  straights = straight()\n",
        "  k10, k20, k30, k40 = straights[0], straights[1], straights[2], straights[3]\n",
        "  peresecheniye = []\n",
        "  pryamye_dlya_lmn = [3, 0, 1, 2, 6, 7]\n",
        "  pryamye_ot_storony = [[3, 8, 0, 9], [0, 5, 1, 4], [1, 10, 2, 11], [2, 7, 3, 6], [6, 9, 5, 10], [7, 8, 4, 11]]\n",
        "  tochki_grani = [[1, 5], [2, 6], [3, 7], [0, 4], [1, 2], [5, 6], [4, 7], [0, 3], [0, 1], [4, 5], [6, 7], [2, 3]]\n",
        "  intersec = intersection()\n",
        "\n",
        "  for i in range(6):\n",
        "    count = i\n",
        "    a = 0\n",
        "    kkkk = 0\n",
        "    peresech = 0\n",
        "    if (type(intersec[0][count]) == float) or (type(intersec[0][count]) == int):\n",
        "      a = 1\n",
        "      l01 = - intersec[0][count] + coord_centr_gr[pryamye_dlya_lmn[count]][0]\n",
        "      m01 = - intersec[1][count] + coord_centr_gr[pryamye_dlya_lmn[count]][1]\n",
        "      n01 = - intersec[2][count] + coord_centr_gr[pryamye_dlya_lmn[count]][2]\n",
        "      l1 = l01 / (l01**2+m01**2+n01**2)**0.5\n",
        "      m1 = m01 / (l01**2+m01**2+n01**2)**0.5\n",
        "      n1 = n01 / (l01**2+m01**2+n01**2)**0.5\n",
        "      for j in range(1,4):\n",
        "        if (k10[pryamye_ot_storony[count][j]]*l1 + k20[pryamye_ot_storony[count][j]]*m1 + k30[pryamye_ot_storony[count][j]]*n1) != 0:\n",
        "          t = -((k10[pryamye_ot_storony[count][j]]*intersec[0][count] + k20[pryamye_ot_storony[count][j]]*intersec[1][count] +\n",
        "                k30[pryamye_ot_storony[count][j]]*intersec[2][count] + k40[pryamye_ot_storony[count][j]])/(k10[pryamye_ot_storony[count][j]]*l1 +\n",
        "                k20[pryamye_ot_storony[count][j]]*m1 + k30[pryamye_ot_storony[count][j]]*n1))\n",
        "          if t > 0:\n",
        "            kkkk=1\n",
        "            xp = l1*t + intersec[0][count]\n",
        "            yp = m1*t + intersec[1][count]\n",
        "            zp = n1*t + intersec[2][count]\n",
        "            if ((coord[tochki_grani[pryamye_ot_storony[count][j]][0]][0] - xp)**2 + (coord[tochki_grani[pryamye_ot_storony[count][j]][0]][1] - yp)**2 +\n",
        "                (coord[tochki_grani[pryamye_ot_storony[count][j]][0]][2] - zp)**2 + (coord[tochki_grani[pryamye_ot_storony[count][j]][1]][0] - xp)**2 +\n",
        "                (coord[tochki_grani[pryamye_ot_storony[count][j]][1]][1] - yp)**2 + (coord[tochki_grani[pryamye_ot_storony[count][j]][1]][2] - zp)**2 < d**2):\n",
        "              peresech += 1\n",
        "    if peresech == 0 and kkkk==1:\n",
        "      peresecheniye.append(1)\n",
        "    else:\n",
        "      peresecheniye.append(0)\n",
        "\n",
        "  return peresecheniye"
      ],
      "metadata": {
        "id": "IAO1yNOw3zmc"
      },
      "execution_count": null,
      "outputs": []
    },
    {
      "cell_type": "code",
      "source": [
        "leng = [i/2 for i in range(int(d)*20)]\n",
        "aaa=[]\n",
        "for i in leng:\n",
        "  qq = 0\n",
        "  for j in range(num):\n",
        "    x0, y0, z0 = i, 0, 0\n",
        "    aa = sum(where_intersection())\n",
        "\n",
        "    if aa == 1 or aa == 2:\n",
        "      qq +=1\n",
        "  aaa.append(qq/num)"
      ],
      "metadata": {
        "id": "zPv1L5vUk0yO"
      },
      "execution_count": null,
      "outputs": []
    },
    {
      "cell_type": "code",
      "source": [
        "qq=0\n",
        "for j in range(num):\n",
        "  x0, y0, z0 = 5, 5, 5\n",
        "  aa = sum(where_intersection())\n",
        "\n",
        "  if aa == 1 or aa == 2:\n",
        "    qq +=1\n",
        "print(f\"Вероятность регистрации детектором излучения с гранью {d} излучения от источника, расположенного в координатах {x0, y0, z0}, при {num} лучах =\", qq/num)\n",
        "print()\n",
        "qq=0\n",
        "for j in range(num):\n",
        "  x0, y0, z0 = d/2, -d/2, -d/2\n",
        "  aa = sum(where_intersection())\n",
        "\n",
        "  if aa == 1 or aa == 2:\n",
        "    qq +=1\n",
        "print(f\"Вероятность регистрации детектором излучения с гранью {d} излучения от источника, расположенного в вершине детектора, при {num} лучах =\", qq/num)\n",
        "print()\n",
        "qq=0\n",
        "for j in range(num):\n",
        "  x0, y0, z0 = 0, -d/2, d/2\n",
        "  aa = sum(where_intersection())\n",
        "\n",
        "  if aa == 1 or aa == 2:\n",
        "    qq +=1\n",
        "print(f\"Вероятность регистрации детектором излучения с гранью {d} излучения от источника, расположенного в центре одного из ребер, при {num} лучах =\", qq/num)\n",
        "print()\n",
        "plt.plot()\n",
        "plt.title(f'Зависимость вероятности регистрации от дальности расположения источника от детектора, грань детектора равна: {d}')\n",
        "plt.plot(leng, aaa, color='blue')\n",
        "\n",
        "plt.show()"
      ],
      "metadata": {
        "colab": {
          "base_uri": "https://localhost:8080/",
          "height": 561
        },
        "id": "UaGzml8n5_TU",
        "outputId": "9634a074-1a7c-4dd1-bc2e-3c83a3461f6c"
      },
      "execution_count": null,
      "outputs": [
        {
          "output_type": "stream",
          "name": "stdout",
          "text": [
            "Вероятность регистрации детектором излучения с гранью 3.0 излучения от источника, расположенного в координатах (5, 5, 5), при 100 лучах = 0.03\n",
            "\n",
            "Вероятность регистрации детектором излучения с гранью 3.0 излучения от источника, расположенного в вершине детектора, при 100 лучах = 0.13\n",
            "\n",
            "Вероятность регистрации детектором излучения с гранью 3.0 излучения от источника, расположенного в центре одного из ребер, при 100 лучах = 0.21\n",
            "\n"
          ]
        },
        {
          "output_type": "display_data",
          "data": {
            "text/plain": [
              "<Figure size 640x480 with 1 Axes>"
            ],
            "image/png": "[encoded data removed]"
          },
          "metadata": {}
        }
      ]
    }
  ]
}