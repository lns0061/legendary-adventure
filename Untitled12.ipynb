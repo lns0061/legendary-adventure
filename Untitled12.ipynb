{
  "nbformat": 4,
  "nbformat_minor": 0,
  "metadata": {
    "colab": {
      "provenance": [],
      "authorship_tag": "ABX9TyPMidpen/4UaMjwzF8FJy6W",
      "include_colab_link": true
    },
    "kernelspec": {
      "name": "python3",
      "display_name": "Python 3"
    },
    "language_info": {
      "name": "python"
    }
  },
  "cells": [
    {
      "cell_type": "markdown",
      "metadata": {
        "id": "view-in-github",
        "colab_type": "text"
      },
      "source": [
        "<a href=\"https://colab.research.google.com/github/lns0061/legendary-adventure/blob/main/Untitled12.ipynb\" target=\"_parent\"><img src=\"https://colab.research.google.com/assets/colab-badge.svg\" alt=\"Open In Colab\"/></a>"
      ]
    },
    {
      "cell_type": "code",
      "execution_count": null,
      "metadata": {
        "colab": {
          "base_uri": "https://localhost:8080/"
        },
        "id": "bfFKcqIqb68U",
        "outputId": "a6822678-1544-4881-c5cb-10e4735bcede"
      },
      "outputs": [
        {
          "output_type": "stream",
          "name": "stdout",
          "text": [
            "Математическое ожидание: 1.014\n",
            "Дисперсия: 0.005744000000000002\n"
          ]
        }
      ],
      "source": [
        "import math\n",
        "import random\n",
        "\n",
        "def estimate_triangle_area(A, B, T1, T2, T3, N):\n",
        "  rectangle_area = A * B\n",
        "  num_in_triangle = 0\n",
        "  for _ in range(N):\n",
        "    x = T1[0] + (A * (random.random() - 0.5))\n",
        "    y = T1[1] + (B * (random.random() - 0.5))\n",
        "\n",
        "    if is_point_in_triangle(x, y, T1, T2, T3):\n",
        "      num_in_triangle += 1\n",
        "\n",
        "  triangle_area = (num_in_triangle / N) * rectangle_area\n",
        "  return triangle_area\n",
        "\n",
        "def is_point_in_triangle(x, y, T1, T2, T3):\n",
        "  v1 = (T2[0] - T1[0], T2[1] - T1[1])\n",
        "  v2 = (T3[0] - T1[0], T3[1] - T1[1])\n",
        "  v3 = (x - T1[0], y - T1[1])\n",
        "\n",
        "  det = v1[0] * v2[1] - v1[1] * v2[0]\n",
        "\n",
        "  if det == 0:\n",
        "    return False\n",
        "\n",
        "  alpha = (v2[1] * v3[0] - v2[0] * v3[1]) / det\n",
        "  beta = (v1[0] * v3[1] - v1[1] * v3[0]) / det\n",
        "  gamma = 1 - alpha - beta\n",
        "\n",
        "  return 0 <= alpha <= 1 and 0 <= beta <= 1 and 0 <= gamma <= 1\n",
        "\n",
        "A = B = 10\n",
        "T1 = (0, 0)\n",
        "T2 = (2, 0)\n",
        "T3 = (0, 1)\n",
        "N = 10000\n",
        "\n",
        "areas = []\n",
        "for _ in range(10):\n",
        "  areas.append(estimate_triangle_area(A, B, T1, T2, T3, N))\n",
        "\n",
        "mean_area = sum(areas) / len(areas)\n",
        "\n",
        "variance = sum((area - mean_area)**2 for area in areas) / len(areas)\n",
        "\n",
        "print(\"Математическое ожидание:\", mean_area)\n",
        "print(\"Дисперсия:\", variance)"
      ]
    }
  ]
}